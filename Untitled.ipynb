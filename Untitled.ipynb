{
 "cells": [
  {
   "cell_type": "code",
   "execution_count": 1,
   "id": "324ea656",
   "metadata": {},
   "outputs": [
    {
     "name": "stdout",
     "output_type": "stream",
     "text": [
      "original: ['Pitch(2)', 'Pitch(3)', 'Pitch(4)', 'Pitch(1)'] \n",
      "query: ['Pitch(2)', 'Pitch(3)', 'Pitch(4)']\n",
      "[[0. 1. 6.]\n",
      " [1. 0. 1.]\n",
      " [6. 1. 0.]\n",
      " [9. 4. 3.]]\n",
      "3.0\n",
      "original: ['Pitch(1)', 'Pitch(2)', 'Pitch(3)', 'Pitch(4)'] \n",
      "query: ['Pitch(2)', 'Pitch(3)', 'Pitch(4)']\n",
      "[[1. 3. 8.]\n",
      " [1. 2. 4.]\n",
      " [4. 1. 2.]\n",
      " [9. 2. 1.]]\n",
      "1.0\n"
     ]
    }
   ],
   "source": [
    "from metrics import melody_sim_DP\n",
    "a = ['Pitch(2)','Pitch(3)','Pitch(4)','Pitch(1)']\n",
    "b = ['Pitch(2)','Pitch(3)','Pitch(4)']\n",
    "print('original:',a,'\\nquery:',b)\n",
    "print(melody_sim_DP(a,b))\n",
    "\n",
    "a = ['Pitch(1)','Pitch(2)','Pitch(3)','Pitch(4)']\n",
    "b = ['Pitch(2)','Pitch(3)','Pitch(4)']\n",
    "print('original:',a,'\\nquery:',b)\n",
    "print(melody_sim_DP(a,b))"
   ]
  },
  {
   "cell_type": "code",
   "execution_count": 67,
   "id": "d41719ba",
   "metadata": {},
   "outputs": [
    {
     "data": {
      "text/plain": [
       "<module 'visual' from '/screamlab/home/eri24816/structural_expansion/visual.py'>"
      ]
     },
     "execution_count": 67,
     "metadata": {},
     "output_type": "execute_result"
    }
   ],
   "source": [
    "import visual\n",
    "import importlib\n",
    "importlib.reload(visual)\n"
   ]
  },
  {
   "cell_type": "code",
   "execution_count": 77,
   "id": "7d39314c",
   "metadata": {},
   "outputs": [
    {
     "name": "stdout",
     "output_type": "stream",
     "text": [
      "Vocabulary file already exists: ./dataset/vocab.txt\n",
      "Length: 3592 (224 bars)\n"
     ]
    }
   ],
   "source": [
    "score = visual.load_score(f'./gen_tokens/0.1/003.json')"
   ]
  },
  {
   "cell_type": "code",
   "execution_count": 78,
   "id": "f90fd9c3",
   "metadata": {},
   "outputs": [
    {
     "data": {
      "image/png": "[encoded data removed]",
      "text/plain": [
       "<Figure size 552.96x360 with 1 Axes>"
      ]
     },
     "metadata": {
      "needs_background": "light"
     },
     "output_type": "display_data"
    }
   ],
   "source": [
    "score.show(0,256,style='dark')"
   ]
  },
  {
   "cell_type": "code",
   "execution_count": 63,
   "id": "407e048a",
   "metadata": {},
   "outputs": [
    {
     "data": {
      "text/plain": [
       "128"
      ]
     },
     "execution_count": 63,
     "metadata": {},
     "output_type": "execute_result"
    }
   ],
   "source": [
    "8*16"
   ]
  },
  {
   "cell_type": "code",
   "execution_count": 1,
   "id": "a44c4550",
   "metadata": {},
   "outputs": [
    {
     "data": {
      "text/plain": [
       "128"
      ]
     },
     "execution_count": 1,
     "metadata": {},
     "output_type": "execute_result"
    }
   ],
   "source": [
    "8*16"
   ]
  },
  {
   "cell_type": "code",
   "execution_count": null,
   "id": "dbda65c6",
   "metadata": {},
   "outputs": [],
   "source": []
  },
  {
   "cell_type": "code",
   "execution_count": null,
   "id": "a3230be9",
   "metadata": {},
   "outputs": [],
   "source": []
  }
 ],
 "metadata": {
  "kernelspec": {
   "display_name": "Python 3 (ipykernel)",
   "language": "python",
   "name": "python3"
  },
  "language_info": {
   "codemirror_mode": {
    "name": "ipython",
    "version": 3
   },
   "file_extension": ".py",
   "mimetype": "text/x-python",
   "name": "python",
   "nbconvert_exporter": "python",
   "pygments_lexer": "ipython3",
   "version": "3.8.0"
  }
 },
 "nbformat": 4,
 "nbformat_minor": 5
}
